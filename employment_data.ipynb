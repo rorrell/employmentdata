{
 "cells": [
  {
   "cell_type": "markdown",
   "id": "521509c5-41a6-487a-a101-719524646a81",
   "metadata": {},
   "source": [
    "# How Does the Unemployment Rate Change Over Time?"
   ]
  },
  {
   "cell_type": "markdown",
   "id": "f0215eb6-c0e4-4304-b057-30322fd95bfa",
   "metadata": {},
   "source": [
    "*Setup*"
   ]
  },
  {
   "cell_type": "code",
   "execution_count": 1,
   "id": "804ceaad-92f9-4a0c-89dd-ea60afc2b4fd",
   "metadata": {},
   "outputs": [
    {
     "name": "stdout",
     "output_type": "stream",
     "text": [
      "(152, 11)\n"
     ]
    },
    {
     "data": {
      "text/html": [
       "<div>\n",
       "<style scoped>\n",
       "    .dataframe tbody tr th:only-of-type {\n",
       "        vertical-align: middle;\n",
       "    }\n",
       "\n",
       "    .dataframe tbody tr th {\n",
       "        vertical-align: top;\n",
       "    }\n",
       "\n",
       "    .dataframe thead th {\n",
       "        text-align: right;\n",
       "    }\n",
       "</style>\n",
       "<table border=\"1\" class=\"dataframe\">\n",
       "  <thead>\n",
       "    <tr style=\"text-align: right;\">\n",
       "      <th></th>\n",
       "      <th>Date</th>\n",
       "      <th>Year</th>\n",
       "      <th>Month</th>\n",
       "      <th>Date Label</th>\n",
       "      <th>Civilian Non-institutional Population</th>\n",
       "      <th>Civilian Labor Force</th>\n",
       "      <th>Labor Force Participation Rate</th>\n",
       "      <th>Employed</th>\n",
       "      <th>Employment Rate</th>\n",
       "      <th>Unemployed</th>\n",
       "      <th>Unemployment Rate</th>\n",
       "    </tr>\n",
       "  </thead>\n",
       "  <tbody>\n",
       "    <tr>\n",
       "      <th>0</th>\n",
       "      <td>01/01/2007 12:00:00 AM</td>\n",
       "      <td>2007</td>\n",
       "      <td>1</td>\n",
       "      <td>Jan 2007</td>\n",
       "      <td>4312014</td>\n",
       "      <td>2973568</td>\n",
       "      <td>69.0</td>\n",
       "      <td>2864870</td>\n",
       "      <td>66.4</td>\n",
       "      <td>108698</td>\n",
       "      <td>3.7</td>\n",
       "    </tr>\n",
       "    <tr>\n",
       "      <th>1</th>\n",
       "      <td>02/01/2007 12:00:00 AM</td>\n",
       "      <td>2007</td>\n",
       "      <td>2</td>\n",
       "      <td>Feb 2007</td>\n",
       "      <td>4314108</td>\n",
       "      <td>2970937</td>\n",
       "      <td>68.9</td>\n",
       "      <td>2864666</td>\n",
       "      <td>66.4</td>\n",
       "      <td>106271</td>\n",
       "      <td>3.6</td>\n",
       "    </tr>\n",
       "    <tr>\n",
       "      <th>2</th>\n",
       "      <td>03/01/2007 12:00:00 AM</td>\n",
       "      <td>2007</td>\n",
       "      <td>3</td>\n",
       "      <td>Mar 2007</td>\n",
       "      <td>4316235</td>\n",
       "      <td>2968053</td>\n",
       "      <td>68.8</td>\n",
       "      <td>2863964</td>\n",
       "      <td>66.4</td>\n",
       "      <td>104089</td>\n",
       "      <td>3.5</td>\n",
       "    </tr>\n",
       "    <tr>\n",
       "      <th>3</th>\n",
       "      <td>04/01/2007 12:00:00 AM</td>\n",
       "      <td>2007</td>\n",
       "      <td>4</td>\n",
       "      <td>Apr 2007</td>\n",
       "      <td>4318781</td>\n",
       "      <td>2965743</td>\n",
       "      <td>68.7</td>\n",
       "      <td>2863381</td>\n",
       "      <td>66.3</td>\n",
       "      <td>102362</td>\n",
       "      <td>3.5</td>\n",
       "    </tr>\n",
       "    <tr>\n",
       "      <th>4</th>\n",
       "      <td>05/01/2007 12:00:00 AM</td>\n",
       "      <td>2007</td>\n",
       "      <td>5</td>\n",
       "      <td>May 2007</td>\n",
       "      <td>4321081</td>\n",
       "      <td>2964741</td>\n",
       "      <td>68.6</td>\n",
       "      <td>2863307</td>\n",
       "      <td>66.3</td>\n",
       "      <td>101434</td>\n",
       "      <td>3.4</td>\n",
       "    </tr>\n",
       "  </tbody>\n",
       "</table>\n",
       "</div>"
      ],
      "text/plain": [
       "                     Date  Year  Month Date Label  \\\n",
       "0  01/01/2007 12:00:00 AM  2007      1   Jan 2007   \n",
       "1  02/01/2007 12:00:00 AM  2007      2   Feb 2007   \n",
       "2  03/01/2007 12:00:00 AM  2007      3   Mar 2007   \n",
       "3  04/01/2007 12:00:00 AM  2007      4   Apr 2007   \n",
       "4  05/01/2007 12:00:00 AM  2007      5   May 2007   \n",
       "\n",
       "   Civilian Non-institutional Population  Civilian Labor Force  \\\n",
       "0                                4312014               2973568   \n",
       "1                                4314108               2970937   \n",
       "2                                4316235               2968053   \n",
       "3                                4318781               2965743   \n",
       "4                                4321081               2964741   \n",
       "\n",
       "   Labor Force Participation Rate  Employed  Employment Rate  Unemployed  \\\n",
       "0                            69.0   2864870             66.4      108698   \n",
       "1                            68.9   2864666             66.4      106271   \n",
       "2                            68.8   2863964             66.4      104089   \n",
       "3                            68.7   2863381             66.3      102362   \n",
       "4                            68.6   2863307             66.3      101434   \n",
       "\n",
       "   Unemployment Rate  \n",
       "0                3.7  \n",
       "1                3.6  \n",
       "2                3.5  \n",
       "3                3.5  \n",
       "4                3.4  "
      ]
     },
     "execution_count": 1,
     "metadata": {},
     "output_type": "execute_result"
    }
   ],
   "source": [
    "import pandas as pd\n",
    "import numpy as np\n",
    "import seaborn as sns\n",
    "import matplotlib.pyplot as plt\n",
    "\n",
    "df = pd.read_csv(\"Sources/Employment__Unemployment__and_Labor_Force_Data.csv\")\n",
    "print(df.shape)\n",
    "df.head()"
   ]
  },
  {
   "cell_type": "markdown",
   "id": "1b85157b-7f52-478f-aca9-1fb098c384ae",
   "metadata": {},
   "source": [
    "*Visualization*"
   ]
  },
  {
   "cell_type": "code",
   "execution_count": 11,
   "id": "03baf02f-285b-4789-b3fd-12faaab9f31b",
   "metadata": {},
   "outputs": [
    {
     "data": {
      "image/png": "[encoded data removed]",
      "text/plain": [
       "<Figure size 640x480 with 1 Axes>"
      ]
     },
     "metadata": {},
     "output_type": "display_data"
    }
   ],
   "source": [
    "avgUnemploymentByYear = df.groupby(\"Year\")[\"Unemployment Rate\"].mean()\n",
    "\n",
    "avgUnemploymentByYear.plot(kind=\"line\", title=\"Average Unemployment Rate by Year from 2007-2019\")\n",
    "plt.show()"
   ]
  },
  {
   "cell_type": "markdown",
   "id": "27d55fc2-a20f-46b1-9742-dfbcf2db4d9c",
   "metadata": {},
   "source": [
    "This chart shows that average unemployment peaked around the financial crisis and has been falling ever since, at least until 2019, which is when the data ends."
   ]
  }
 ],
 "metadata": {
  "kernelspec": {
   "display_name": "Python 3 (ipykernel)",
   "language": "python",
   "name": "python3"
  },
  "language_info": {
   "codemirror_mode": {
    "name": "ipython",
    "version": 3
   },
   "file_extension": ".py",
   "mimetype": "text/x-python",
   "name": "python",
   "nbconvert_exporter": "python",
   "pygments_lexer": "ipython3",
   "version": "3.11.4"
  }
 },
 "nbformat": 4,
 "nbformat_minor": 5
}
